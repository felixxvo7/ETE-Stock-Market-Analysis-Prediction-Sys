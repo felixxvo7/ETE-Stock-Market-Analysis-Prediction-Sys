{
 "cells": [
  {
   "cell_type": "code",
   "execution_count": 1,
   "metadata": {},
   "outputs": [
    {
     "name": "stdout",
     "output_type": "stream",
     "text": [
      "Error: unable to open database file\n",
      "Check if the database file exists and the path is correct.\n",
      "Error executing query: name 'conn' is not defined\n"
     ]
    },
    {
     "ename": "NameError",
     "evalue": "name 'conn' is not defined",
     "output_type": "error",
     "traceback": [
      "\u001b[1;31m---------------------------------------------------------------------------\u001b[0m",
      "\u001b[1;31mNameError\u001b[0m                                 Traceback (most recent call last)",
      "Cell \u001b[1;32mIn[1], line 25\u001b[0m\n\u001b[0;32m     22\u001b[0m     \u001b[38;5;28mprint\u001b[39m(\u001b[38;5;124mf\u001b[39m\u001b[38;5;124m\"\u001b[39m\u001b[38;5;124mError executing query: \u001b[39m\u001b[38;5;132;01m{\u001b[39;00me\u001b[38;5;132;01m}\u001b[39;00m\u001b[38;5;124m\"\u001b[39m)\n\u001b[0;32m     24\u001b[0m \u001b[38;5;66;03m# Step 3: Close the Database Connection\u001b[39;00m\n\u001b[1;32m---> 25\u001b[0m \u001b[43mconn\u001b[49m\u001b[38;5;241m.\u001b[39mclose()\n\u001b[0;32m     26\u001b[0m \u001b[38;5;28mprint\u001b[39m(\u001b[38;5;124m\"\u001b[39m\u001b[38;5;124mDatabase connection closed.\u001b[39m\u001b[38;5;124m\"\u001b[39m)\n",
      "\u001b[1;31mNameError\u001b[0m: name 'conn' is not defined"
     ]
    }
   ],
   "source": [
    "import sqlite3\n",
    "import pandas as pd\n",
    "import os\n",
    "from config import DATABASE_PATH\n",
    "\n",
    "# Step 1: Connect to the Database\n",
    "db_file_path = os.path.join(DATABASE_PATH, \"detected_patterns.db\")\n",
    "try:\n",
    "    conn = sqlite3.connect(db_file_path)\n",
    "    print(f\"Connected to database at: {db_file_path}\")\n",
    "except sqlite3.OperationalError as e:\n",
    "    print(f\"Error: {e}\")\n",
    "    print(\"Check if the database file exists and the path is correct.\")\n",
    "\n",
    "# Step 2: Execute a SQL Query\n",
    "query = \"SELECT * FROM stock_pattern\"\n",
    "try:\n",
    "    patterns_df = pd.read_sql(query, conn)\n",
    "    print(\"Data retrieved successfully:\")\n",
    "    print(patterns_df.head())  # Display the first few rows\n",
    "except Exception as e:\n",
    "    print(f\"Error executing query: {e}\")\n",
    "\n",
    "# Step 3: Close the Database Connection\n",
    "conn.close()\n",
    "print(\"Database connection closed.\")"
   ]
  }
 ],
 "metadata": {
  "kernelspec": {
   "display_name": "Python 3",
   "language": "python",
   "name": "python3"
  },
  "language_info": {
   "codemirror_mode": {
    "name": "ipython",
    "version": 3
   },
   "file_extension": ".py",
   "mimetype": "text/x-python",
   "name": "python",
   "nbconvert_exporter": "python",
   "pygments_lexer": "ipython3",
   "version": "3.11.3"
  }
 },
 "nbformat": 4,
 "nbformat_minor": 2
}
