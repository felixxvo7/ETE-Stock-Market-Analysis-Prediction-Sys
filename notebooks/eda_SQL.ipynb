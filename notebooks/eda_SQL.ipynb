{
 "cells": [
  {
   "cell_type": "markdown",
   "metadata": {},
   "source": [
    "# EXPLORATORY DATA ANALYSIS USING SQL"
   ]
  },
  {
   "cell_type": "markdown",
   "metadata": {},
   "source": []
  },
  {
   "cell_type": "code",
   "execution_count": 1,
   "metadata": {},
   "outputs": [],
   "source": [
    "# Import necessary libraries\n",
    "import os\n",
    "import sqlite3\n",
    "import pandas as pd\n",
    "from config import CLEANED_DATA_PATH"
   ]
  },
  {
   "cell_type": "code",
   "execution_count": 2,
   "metadata": {},
   "outputs": [
    {
     "data": {
      "text/html": [
       "<div>\n",
       "<style scoped>\n",
       "    .dataframe tbody tr th:only-of-type {\n",
       "        vertical-align: middle;\n",
       "    }\n",
       "\n",
       "    .dataframe tbody tr th {\n",
       "        vertical-align: top;\n",
       "    }\n",
       "\n",
       "    .dataframe thead th {\n",
       "        text-align: right;\n",
       "    }\n",
       "</style>\n",
       "<table border=\"1\" class=\"dataframe\">\n",
       "  <thead>\n",
       "    <tr style=\"text-align: right;\">\n",
       "      <th></th>\n",
       "      <th>id</th>\n",
       "      <th>date</th>\n",
       "      <th>close</th>\n",
       "      <th>adj_close</th>\n",
       "      <th>volume</th>\n",
       "      <th>symbol</th>\n",
       "      <th>close_pct_change</th>\n",
       "      <th>volume_pct_change</th>\n",
       "      <th>7_day_ma</th>\n",
       "    </tr>\n",
       "  </thead>\n",
       "  <tbody>\n",
       "    <tr>\n",
       "      <th>0</th>\n",
       "      <td>1</td>\n",
       "      <td>2024-01-19</td>\n",
       "      <td>16.420000</td>\n",
       "      <td>16.420000</td>\n",
       "      <td>15287700</td>\n",
       "      <td>SNAP</td>\n",
       "      <td>1.317170</td>\n",
       "      <td>10.904397</td>\n",
       "      <td>127.153681</td>\n",
       "    </tr>\n",
       "    <tr>\n",
       "      <th>1</th>\n",
       "      <td>2</td>\n",
       "      <td>2024-01-22</td>\n",
       "      <td>16.610001</td>\n",
       "      <td>16.610001</td>\n",
       "      <td>19540600</td>\n",
       "      <td>SNAP</td>\n",
       "      <td>1.157129</td>\n",
       "      <td>27.819096</td>\n",
       "      <td>127.153681</td>\n",
       "    </tr>\n",
       "    <tr>\n",
       "      <th>2</th>\n",
       "      <td>3</td>\n",
       "      <td>2024-01-23</td>\n",
       "      <td>16.330000</td>\n",
       "      <td>16.330000</td>\n",
       "      <td>17034500</td>\n",
       "      <td>SNAP</td>\n",
       "      <td>-1.685736</td>\n",
       "      <td>-12.825092</td>\n",
       "      <td>127.153681</td>\n",
       "    </tr>\n",
       "    <tr>\n",
       "      <th>3</th>\n",
       "      <td>4</td>\n",
       "      <td>2024-01-24</td>\n",
       "      <td>16.320000</td>\n",
       "      <td>16.320000</td>\n",
       "      <td>17403900</td>\n",
       "      <td>SNAP</td>\n",
       "      <td>-0.061238</td>\n",
       "      <td>2.168540</td>\n",
       "      <td>127.153681</td>\n",
       "    </tr>\n",
       "    <tr>\n",
       "      <th>4</th>\n",
       "      <td>5</td>\n",
       "      <td>2024-01-25</td>\n",
       "      <td>16.290001</td>\n",
       "      <td>16.290001</td>\n",
       "      <td>14223000</td>\n",
       "      <td>SNAP</td>\n",
       "      <td>-0.183816</td>\n",
       "      <td>-18.276938</td>\n",
       "      <td>127.153681</td>\n",
       "    </tr>\n",
       "  </tbody>\n",
       "</table>\n",
       "</div>"
      ],
      "text/plain": [
       "   id        date      close  adj_close    volume symbol  close_pct_change  \\\n",
       "0   1  2024-01-19  16.420000  16.420000  15287700   SNAP          1.317170   \n",
       "1   2  2024-01-22  16.610001  16.610001  19540600   SNAP          1.157129   \n",
       "2   3  2024-01-23  16.330000  16.330000  17034500   SNAP         -1.685736   \n",
       "3   4  2024-01-24  16.320000  16.320000  17403900   SNAP         -0.061238   \n",
       "4   5  2024-01-25  16.290001  16.290001  14223000   SNAP         -0.183816   \n",
       "\n",
       "   volume_pct_change    7_day_ma  \n",
       "0          10.904397  127.153681  \n",
       "1          27.819096  127.153681  \n",
       "2         -12.825092  127.153681  \n",
       "3           2.168540  127.153681  \n",
       "4         -18.276938  127.153681  "
      ]
     },
     "execution_count": 2,
     "metadata": {},
     "output_type": "execute_result"
    }
   ],
   "source": [
    "def retrieve_data_from_db(db_name='stocks_data.db', table_name='stock_data'):\n",
    "    # Construct the full path to the database file\n",
    "    db_file_path = os.path.join(CLEANED_DATA_PATH, db_name)\n",
    "\n",
    "    # Step 1: Connect to the SQLite database\n",
    "    conn = sqlite3.connect(db_file_path)\n",
    "    \n",
    "    # Step 2: Query the database to retrieve all data from the table\n",
    "    query = f\"SELECT * FROM {table_name};\"\n",
    "    df = pd.read_sql(query, conn)\n",
    "    \n",
    "    # Close the connection\n",
    "    conn.close()\n",
    "    \n",
    "    return df\n",
    "\n",
    "# Retrieve the data\n",
    "data = retrieve_data_from_db()\n",
    "\n",
    "# Show the first few rows of the data to inspect it\n",
    "data.head()"
   ]
  },
  {
   "cell_type": "markdown",
   "metadata": {},
   "source": [
    "### 1. Initial Overview of the Data\n",
    "Check the structure of the table:"
   ]
  },
  {
   "cell_type": "code",
   "execution_count": 4,
   "metadata": {},
   "outputs": [
    {
     "name": "stdout",
     "output_type": "stream",
     "text": [
      "id                     int64\n",
      "date                  object\n",
      "close                float64\n",
      "adj_close            float64\n",
      "volume                 int64\n",
      "symbol                object\n",
      "close_pct_change     float64\n",
      "volume_pct_change    float64\n",
      "7_day_ma             float64\n",
      "dtype: object\n"
     ]
    }
   ],
   "source": [
    "# Checking the column names and data types\n",
    "print(data.dtypes)"
   ]
  },
  {
   "cell_type": "code",
   "execution_count": 13,
   "metadata": {},
   "outputs": [
    {
     "data": {
      "text/html": [
       "<div>\n",
       "<style scoped>\n",
       "    .dataframe tbody tr th:only-of-type {\n",
       "        vertical-align: middle;\n",
       "    }\n",
       "\n",
       "    .dataframe tbody tr th {\n",
       "        vertical-align: top;\n",
       "    }\n",
       "\n",
       "    .dataframe thead th {\n",
       "        text-align: right;\n",
       "    }\n",
       "</style>\n",
       "<table border=\"1\" class=\"dataframe\">\n",
       "  <thead>\n",
       "    <tr style=\"text-align: right;\">\n",
       "      <th></th>\n",
       "      <th>id</th>\n",
       "      <th>close</th>\n",
       "      <th>adj_close</th>\n",
       "      <th>volume</th>\n",
       "      <th>close_pct_change</th>\n",
       "      <th>volume_pct_change</th>\n",
       "      <th>7_day_ma</th>\n",
       "    </tr>\n",
       "  </thead>\n",
       "  <tbody>\n",
       "    <tr>\n",
       "      <th>count</th>\n",
       "      <td>2510.000000</td>\n",
       "      <td>2510.000000</td>\n",
       "      <td>2510.000000</td>\n",
       "      <td>2.510000e+03</td>\n",
       "      <td>2510.000000</td>\n",
       "      <td>2510.000000</td>\n",
       "      <td>2510.000000</td>\n",
       "    </tr>\n",
       "    <tr>\n",
       "      <th>mean</th>\n",
       "      <td>1255.500000</td>\n",
       "      <td>127.305032</td>\n",
       "      <td>126.934397</td>\n",
       "      <td>8.019062e+06</td>\n",
       "      <td>1.317170</td>\n",
       "      <td>10.904397</td>\n",
       "      <td>127.153681</td>\n",
       "    </tr>\n",
       "    <tr>\n",
       "      <th>std</th>\n",
       "      <td>724.718911</td>\n",
       "      <td>197.142086</td>\n",
       "      <td>197.209924</td>\n",
       "      <td>1.092923e+07</td>\n",
       "      <td>40.872528</td>\n",
       "      <td>61.189435</td>\n",
       "      <td>196.232721</td>\n",
       "    </tr>\n",
       "    <tr>\n",
       "      <th>min</th>\n",
       "      <td>1.000000</td>\n",
       "      <td>2.830000</td>\n",
       "      <td>2.830000</td>\n",
       "      <td>6.860000e+04</td>\n",
       "      <td>-91.475568</td>\n",
       "      <td>-91.513904</td>\n",
       "      <td>3.015714</td>\n",
       "    </tr>\n",
       "    <tr>\n",
       "      <th>25%</th>\n",
       "      <td>628.250000</td>\n",
       "      <td>19.092500</td>\n",
       "      <td>18.962499</td>\n",
       "      <td>2.606725e+06</td>\n",
       "      <td>-1.020265</td>\n",
       "      <td>-22.884052</td>\n",
       "      <td>19.151761</td>\n",
       "    </tr>\n",
       "    <tr>\n",
       "      <th>50%</th>\n",
       "      <td>1255.500000</td>\n",
       "      <td>57.915001</td>\n",
       "      <td>57.459793</td>\n",
       "      <td>4.625100e+06</td>\n",
       "      <td>0.079112</td>\n",
       "      <td>-0.486301</td>\n",
       "      <td>57.929286</td>\n",
       "    </tr>\n",
       "    <tr>\n",
       "      <th>75%</th>\n",
       "      <td>1882.750000</td>\n",
       "      <td>142.084999</td>\n",
       "      <td>142.084999</td>\n",
       "      <td>9.409900e+06</td>\n",
       "      <td>1.114861</td>\n",
       "      <td>26.618181</td>\n",
       "      <td>144.005355</td>\n",
       "    </tr>\n",
       "    <tr>\n",
       "      <th>max</th>\n",
       "      <td>2510.000000</td>\n",
       "      <td>936.559998</td>\n",
       "      <td>936.559998</td>\n",
       "      <td>1.859776e+08</td>\n",
       "      <td>1451.895884</td>\n",
       "      <td>901.475589</td>\n",
       "      <td>923.405709</td>\n",
       "    </tr>\n",
       "  </tbody>\n",
       "</table>\n",
       "</div>"
      ],
      "text/plain": [
       "                id        close    adj_close        volume  close_pct_change  \\\n",
       "count  2510.000000  2510.000000  2510.000000  2.510000e+03       2510.000000   \n",
       "mean   1255.500000   127.305032   126.934397  8.019062e+06          1.317170   \n",
       "std     724.718911   197.142086   197.209924  1.092923e+07         40.872528   \n",
       "min       1.000000     2.830000     2.830000  6.860000e+04        -91.475568   \n",
       "25%     628.250000    19.092500    18.962499  2.606725e+06         -1.020265   \n",
       "50%    1255.500000    57.915001    57.459793  4.625100e+06          0.079112   \n",
       "75%    1882.750000   142.084999   142.084999  9.409900e+06          1.114861   \n",
       "max    2510.000000   936.559998   936.559998  1.859776e+08       1451.895884   \n",
       "\n",
       "       volume_pct_change     7_day_ma  \n",
       "count        2510.000000  2510.000000  \n",
       "mean           10.904397   127.153681  \n",
       "std            61.189435   196.232721  \n",
       "min           -91.513904     3.015714  \n",
       "25%           -22.884052    19.151761  \n",
       "50%            -0.486301    57.929286  \n",
       "75%            26.618181   144.005355  \n",
       "max           901.475589   923.405709  "
      ]
     },
     "execution_count": 13,
     "metadata": {},
     "output_type": "execute_result"
    }
   ],
   "source": [
    "# Descriptive statistics for numerical columns\n",
    "data.describe()\n"
   ]
  },
  {
   "cell_type": "markdown",
   "metadata": {},
   "source": [
    "### 2. Time-Based Analysis"
   ]
  },
  {
   "cell_type": "code",
   "execution_count": 14,
   "metadata": {},
   "outputs": [
    {
     "name": "stdout",
     "output_type": "stream",
     "text": [
      "year\n",
      "2024    2400\n",
      "2025     110\n",
      "dtype: int64\n"
     ]
    }
   ],
   "source": [
    "# Convert 'date' to datetime format (if it's not already)\n",
    "data['date'] = pd.to_datetime(data['date'], errors='coerce')\n",
    "\n",
    "# Extract the year from the 'date' column and group by it\n",
    "data['year'] = data['date'].dt.year\n",
    "\n",
    "# Count the number of records per year\n",
    "yearly_counts = data.groupby('year').size()\n",
    "print(yearly_counts)\n"
   ]
  },
  {
   "cell_type": "code",
   "execution_count": 15,
   "metadata": {},
   "outputs": [
    {
     "name": "stdout",
     "output_type": "stream",
     "text": [
      "Earliest Date: 2024-01-19 00:00:00\n",
      "Latest Date: 2025-01-17 00:00:00\n"
     ]
    }
   ],
   "source": [
    "# Check for the earliest and latest dates\n",
    "earliest_date = data['date'].min()\n",
    "latest_date = data['date'].max()\n",
    "\n",
    "print(f\"Earliest Date: {earliest_date}\")\n",
    "print(f\"Latest Date: {latest_date}\")\n"
   ]
  },
  {
   "cell_type": "markdown",
   "metadata": {},
   "source": [
    "3. Distributions and Aggregations\n",
    "Find the total volume per year:"
   ]
  },
  {
   "cell_type": "code",
   "execution_count": 16,
   "metadata": {},
   "outputs": [
    {
     "name": "stdout",
     "output_type": "stream",
     "text": [
      "year\n",
      "2024    19250131700\n",
      "2025      877712900\n",
      "Name: volume, dtype: int64\n"
     ]
    }
   ],
   "source": [
    "# Calculate total volume per year\n",
    "total_volume_per_year = data.groupby('year')['volume'].sum()\n",
    "print(total_volume_per_year)\n"
   ]
  },
  {
   "cell_type": "code",
   "execution_count": 17,
   "metadata": {},
   "outputs": [
    {
     "name": "stdout",
     "output_type": "stream",
     "text": [
      "              mean         min         max\n",
      "symbol                                    \n",
      "ABNB    141.796016  113.010002  168.179993\n",
      "CNQ      34.876096   29.510000   41.160000\n",
      "D        52.711355   44.150002   60.930000\n",
      "MNSO     19.557092   13.400000   27.559999\n",
      "NFLX    688.895298  482.950012  936.559998\n",
      "PG      165.797370  147.570007  179.699997\n",
      "SHOP     79.171912   52.259998  119.489998\n",
      "SNAP     12.375259    8.290000   17.450001\n",
      "TIXT      5.853825    2.830000   11.380000\n",
      "WMT      72.016095   53.500000   95.699997\n"
     ]
    }
   ],
   "source": [
    "\n",
    "# Average closing price per stock symbol\n",
    "avg_close_per_symbol = data.groupby('symbol')['close'].agg(['mean', 'min', 'max'])\n",
    "print(avg_close_per_symbol)\n"
   ]
  },
  {
   "cell_type": "markdown",
   "metadata": {},
   "source": [
    "### Trends Over Time\n",
    "Find the average closing price per month:"
   ]
  },
  {
   "cell_type": "code",
   "execution_count": 18,
   "metadata": {},
   "outputs": [
    {
     "name": "stdout",
     "output_type": "stream",
     "text": [
      "month\n",
      "2024-01    109.367536\n",
      "2024-02    113.957508\n",
      "2024-03    120.088351\n",
      "2024-04    117.892614\n",
      "2024-05    119.541409\n",
      "2024-06    123.669316\n",
      "2024-07    122.656455\n",
      "2024-08    120.912227\n",
      "2024-09    126.470500\n",
      "2024-10    132.413608\n",
      "2024-11    145.137749\n",
      "2024-12    155.025595\n",
      "2025-01    147.576909\n",
      "Freq: M, Name: close, dtype: float64\n"
     ]
    }
   ],
   "source": [
    "# Extract month and year from 'date'\n",
    "data['month'] = data['date'].dt.to_period('M')\n",
    "\n",
    "# Calculate average closing price per month\n",
    "avg_close_per_month = data.groupby('month')['close'].mean()\n",
    "print(avg_close_per_month)\n"
   ]
  },
  {
   "cell_type": "code",
   "execution_count": 19,
   "metadata": {},
   "outputs": [
    {
     "data": {
      "image/png": "[encoded data removed]",
      "text/plain": [
       "<Figure size 1000x600 with 1 Axes>"
      ]
     },
     "metadata": {},
     "output_type": "display_data"
    }
   ],
   "source": [
    "import matplotlib.pyplot as plt\n",
    "\n",
    "# Plot average closing price per month\n",
    "avg_close_per_month.plot(kind='line', figsize=(10, 6))\n",
    "plt.title(\"Average Closing Price per Month\")\n",
    "plt.xlabel(\"Month\")\n",
    "plt.ylabel(\"Average Close Price\")\n",
    "plt.grid(True)\n",
    "plt.show()\n"
   ]
  }
 ],
 "metadata": {
  "kernelspec": {
   "display_name": "Python 3",
   "language": "python",
   "name": "python3"
  },
  "language_info": {
   "codemirror_mode": {
    "name": "ipython",
    "version": 3
   },
   "file_extension": ".py",
   "mimetype": "text/x-python",
   "name": "python",
   "nbconvert_exporter": "python",
   "pygments_lexer": "ipython3",
   "version": "3.12.6"
  }
 },
 "nbformat": 4,
 "nbformat_minor": 2
}
