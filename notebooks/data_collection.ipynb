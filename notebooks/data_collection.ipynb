{
 "cells": [
  {
   "cell_type": "markdown",
   "metadata": {},
   "source": [
    "# Data Collection for Stock"
   ]
  },
  {
   "cell_type": "code",
   "execution_count": 1,
   "metadata": {},
   "outputs": [],
   "source": [
    "#Import Required Libraries\n",
    "import requests\n",
    "from bs4 import BeautifulSoup\n",
    "import pandas as pd\n"
   ]
  },
  {
   "cell_type": "code",
   "execution_count": 90,
   "metadata": {},
   "outputs": [
    {
     "name": "stdout",
     "output_type": "stream",
     "text": [
      "200\n"
     ]
    }
   ],
   "source": [
    "\n",
    "headers = {'User-Agent': 'Mozilla/5.0 (Windows NT 10.0; Win64; x64) AppleWebKit/537.36 (KHTML, like Gecko) Chrome/131.0.0.0 Safari/537.36'}\n",
    "url = 'https://www.cnbc.com/quotes/AMZN?qsearchterm=amazon'\n",
    "\n",
    "page = requests.get(url)\n",
    "print(page.status_code)"
   ]
  },
  {
   "cell_type": "code",
   "execution_count": 91,
   "metadata": {},
   "outputs": [
    {
     "name": "stdout",
     "output_type": "stream",
     "text": [
      "AMZN: Amazon.com Inc - Stock Price, Quote and News - CNBC\n"
     ]
    }
   ],
   "source": [
    "soup = BeautifulSoup(page.text, 'html.parser')\n",
    "print(soup.title.text)"
   ]
  },
  {
   "cell_type": "code",
   "execution_count": 92,
   "metadata": {},
   "outputs": [
    {
     "data": {
      "text/plain": [
       "'Close225.94+5.28 (+2.39%)Volume38,754,30552 week range149.91 - 233.00'"
      ]
     },
     "execution_count": 92,
     "metadata": {},
     "output_type": "execute_result"
    }
   ],
   "source": [
    "data = soup.find('div',{'class': 'QuoteStrip-dataContainer QuoteStrip-extendedHours'}).text\n",
    "data"
   ]
  },
  {
   "cell_type": "code",
   "execution_count": 95,
   "metadata": {},
   "outputs": [
    {
     "name": "stdout",
     "output_type": "stream",
     "text": [
      "Price: 225.94, Change: +5.28, Percentage: +2.39%\n",
      "Company: AMZN: Amazon.com Inc \n"
     ]
    }
   ],
   "source": [
    "import re\n",
    "\n",
    "title = soup.title.text\n",
    "# Regular expression patterns\n",
    "pattern = r\"^(.*?)-\"\n",
    "price_pattern = r\"Close([\\d\\.]+)\"\n",
    "change_pattern = r\"([+-][\\d\\.]+)\"\n",
    "percentage_pattern = r\"\\(([+-][\\d\\.%]+)\\)\"\n",
    "\n",
    "# Extract data\n",
    "name = re.search(pattern, title).group(1)\n",
    "price = re.search(price_pattern, data).group(1)\n",
    "change = re.search(change_pattern, data).group(1)\n",
    "percentage = re.search(percentage_pattern, data).group(1)\n",
    "\n",
    "# Concatenate results\n",
    "result = f\"Price: {price}, Change: {change}, Percentage: {percentage}\"\n",
    "print(result)\n",
    "print(f\"Company: {match}\")\n"
   ]
  }
 ],
 "metadata": {
  "kernelspec": {
   "display_name": "Python 3",
   "language": "python",
   "name": "python3"
  },
  "language_info": {
   "codemirror_mode": {
    "name": "ipython",
    "version": 3
   },
   "file_extension": ".py",
   "mimetype": "text/x-python",
   "name": "python",
   "nbconvert_exporter": "python",
   "pygments_lexer": "ipython3",
   "version": "3.12.6"
  }
 },
 "nbformat": 4,
 "nbformat_minor": 2
}
